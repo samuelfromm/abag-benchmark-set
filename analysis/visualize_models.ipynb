{
 "cells": [
  {
   "cell_type": "code",
   "execution_count": 21,
   "metadata": {},
   "outputs": [],
   "source": [
    "import pandas as pd\n",
    "import matplotlib.pyplot as plt\n",
    "import os\n",
    "import confidence.confidence_tools\n",
    "import py3Dmol\n",
    "import subprocess\n"
   ]
  },
  {
   "cell_type": "code",
   "execution_count": 22,
   "metadata": {},
   "outputs": [],
   "source": [
    "abspath = os.getcwd()\n",
    "abspath = abspath.split(\"abag-benchmark-set\")[0] + \"abag-benchmark-set\""
   ]
  },
  {
   "cell_type": "code",
   "execution_count": 23,
   "metadata": {},
   "outputs": [
    {
     "data": {
      "text/plain": [
       "'Top 5 and bottom 5 abag_dockq scores\\n\\npdbid  median\\n97   8vk1    0.93\\n104  8ysh    0.93\\n73   8pe1    0.92\\n38   8c5h    0.92\\n64   8jeo    0.90\\n..    ...     ...\\n13   7t0l    0.01\\n3    7q0i    0.01\\n95   8u3s    0.01\\n43   8e7m    0.00\\n15   7t82    0.00\\n'"
      ]
     },
     "execution_count": 23,
     "metadata": {},
     "output_type": "execute_result"
    }
   ],
   "source": [
    "\"\"\"Top 5 and bottom 5 abag_dockq scores\n",
    "\n",
    "pdbid  median\n",
    "97   8vk1    0.93\n",
    "104  8ysh    0.93\n",
    "73   8pe1    0.92\n",
    "38   8c5h    0.92\n",
    "64   8jeo    0.90\n",
    "..    ...     ...\n",
    "13   7t0l    0.01\n",
    "3    7q0i    0.01\n",
    "95   8u3s    0.01\n",
    "43   8e7m    0.00\n",
    "15   7t82    0.00\n",
    "\"\"\""
   ]
  },
  {
   "cell_type": "code",
   "execution_count": 24,
   "metadata": {},
   "outputs": [],
   "source": [
    "id=\"7t82\" # 7ox2complex  7t82complex  8u3scomplex\n",
    "model=3\n",
    "prediction=10\n",
    "preset=\"alphafold3\"\n",
    "\n",
    "id=\"8hit\"\n",
    "model=1\n",
    "prediction=5\n",
    "preset=\"alphafold3\"\n",
    "\n",
    "id=\"8hit\"\n",
    "model=1\n",
    "prediction=0\n",
    "preset=\"alphafold3\""
   ]
  },
  {
   "cell_type": "code",
   "execution_count": 25,
   "metadata": {},
   "outputs": [],
   "source": [
    "# Software\n",
    "MMalign_exe=\"/home/sfromm/programs/MMalign/MMalign\"\n",
    "\n",
    "# Directories\n",
    "tmp = \"/home/sfromm/tmp\"\n",
    "reference = f\"/home/sfromm/git/abag-benchmark-set/data/db/structures_filtered/{id}_filtered.pdb\"\n",
    "reference_orig = f\"/home/sfromm/git/abag-benchmark-set/data/db/structures/{id}.pdb\"\n",
    "\n",
    "#AF2\n",
    "path_scores = f\"/home/sfromm/git/abag-benchmark-set/data/scores_ae/{preset}/output/{id}/{id}_model_{model}_multimer_v3_pred_{prediction}_{preset}/{id}_model_{model}_multimer_v3_pred_{prediction}_{preset}_merged.csv\"\n",
    "query_cut = f\"/home/sfromm/git/abag-benchmark-set/data/scores_ae/{preset}/output/{id}/{id}_model_{model}_multimer_v3_pred_{prediction}_{preset}/{id}_model_{model}_multimer_v3_pred_{prediction}_{preset}_cut_query.pdb\"\n",
    "reference_cut = f\"/home/sfromm/git/abag-benchmark-set/data/scores_ae/{preset}/output/{id}/{id}_model_{model}_multimer_v3_pred_{prediction}_{preset}/{id}_model_{model}_multimer_v3_pred_{prediction}_{preset}_cut_reference.pdb\"\n",
    "\n",
    "#AF3\n",
    "path_scores = f\"/home/sfromm/git/abag-benchmark-set/data/scores_ae/{preset}/output/{id}/{id}_seed_{prediction}_sample_{model}_{preset}/{id}_seed_{prediction}_sample_{model}_{preset}_merged.csv\"\n",
    "query_cut = f\"/home/sfromm/git/abag-benchmark-set/data/scores_ae/{preset}/output/{id}/{id}_seed_{prediction}_sample_{model}_{preset}/{id}_seed_{prediction}_sample_{model}_{preset}_cut_query.pdb\"\n",
    "reference_cut = f\"/home/sfromm/git/abag-benchmark-set/data/scores_ae/{preset}/output/{id}/{id}_seed_{prediction}_sample_{model}_{preset}/{id}_seed_{prediction}_sample_{model}_{preset}_cut_reference.pdb\"\n",
    "query = f\"/home/sfromm/git/abag-benchmark-set/data/models/alphafold3/{id}complex/model_seed_{prediction}_sample_{model}_{preset}.pdb\"\n",
    "\n"
   ]
  },
  {
   "cell_type": "code",
   "execution_count": 26,
   "metadata": {},
   "outputs": [],
   "source": [
    "# Some helper functions\n",
    "def get_chains(pdb):\n",
    "    return [chain.id for chain in confidence.confidence_tools.load_pdb_structure(pdb).get_chains()]\n",
    "\n",
    "def get_name(pdb):\n",
    "    return os.path.split(pdb)[1].split('.')[0]\n",
    "\n",
    "# Align target structures to template structure\n",
    "\n",
    "def MMalign_wrapper(MMalign_exe, target_pdb, template_pdb, aligned_pdb=None):\n",
    "    if aligned_pdb is None:\n",
    "        raw_cmd = [MMalign_exe, target_pdb, template_pdb, \"-outfmt 2\"]\n",
    "    else:\n",
    "        raw_cmd = [MMalign_exe, target_pdb, template_pdb, \"-outfmt 2\", \"-o\", aligned_pdb]\n",
    "    cmd = \" \".join(raw_cmd)\n",
    "    result = subprocess.run(cmd, shell=True, stdout=subprocess.PIPE, text=True).stdout\n",
    "    keys = result.split(\"\\n\")[0][1:].split(\"\\t\")\n",
    "    values = result.split(\"\\n\")[1].split(\"\\t\")\n",
    "    result = {}\n",
    "    result[\"target\"] =  os.path.split(target_pdb)[1].split('.')[0]\n",
    "    result[\"template\"] =  os.path.split(template_pdb)[1].split('.')[0]\n",
    "    result.update({keys[i] : values[i] for i in range(len(keys))})\n",
    "    result[\"PDBchain1\"] = result[\"PDBchain1\"].split(\":\",1)[1]\n",
    "    result[\"PDBchain2\"] = result[\"PDBchain2\"].split(\":\",1)[1]\n",
    "    return result\n"
   ]
  },
  {
   "cell_type": "code",
   "execution_count": 27,
   "metadata": {},
   "outputs": [],
   "source": [
    "\n",
    "\n",
    "color_list = ['#33ff33', '#00ffff', '#ff33cc', '#ffff00', '#ff9999', '#e5e5e5', '#7f7fff', '#ff7f00', '#7fff7f', '#199999', '#ff007f', '#ffdd5e', '#8c3f99', '#b2b2b2', '#007fff', '#c4b200', '#8cb266', '#00bfbf', '#b27f7f', '#fcd1a5', '#ff7f7f', '#ffbfdd', '#7fffff', '#ffff7f', '#00ff7f', '#337fcc', '#d8337f', '#bfff3f', '#ff7fff', '#d8d8ff', '#3fffbf', '#b78c4c', '#339933', '#66b2b2', '#ba8c84', '#84bf00', '#b24c66', '#7f7f7f', '#3f3fa5', '#a5512b']\n",
    "#alphabet_list = ['A', 'B', 'C', 'D', 'E', 'F', 'G', 'H', 'I', 'J', 'K', 'L', 'M', 'N', 'O', 'P', 'Q', 'R', 'S', 'T', 'U', 'V', 'W', 'X', 'Y', 'Z', 'a', 'b', 'c', 'd', 'e', 'f', 'g', 'h', 'i', 'j', 'k', 'l', 'm', 'n', 'o', 'p', 'q', 'r', 's', 't', 'u', 'v', 'w', 'x', 'y', 'z']\n",
    "color_list = ['yellow','blue','red','orange','purple','cyan','green','brown','aquamarine','darkblue','lightblue','magenta','pink']\n",
    "\n",
    "# label options for atom\n",
    "# atom.atom, atom.chain (chain), atom.resi (residue number), atom.elem (element symbol), atom.resn (name of residue), atom.model (the model the atom belongs to), atom.x, atom.y, atom.z (coordinates)\n",
    "hover_func = '''function(atom,viewer,event,container) {\n",
    "                   if(!atom.label) {\n",
    "                    atom.label = viewer.addLabel(atom.model+\":\"+atom.chain+\":\"+atom.resi,{position: atom, backgroundColor: 'mintcream', fontColor:'black'});\n",
    "                   }}'''\n",
    "unhover_func = '''function(atom,viewer) { \n",
    "                   if(atom.label) {\n",
    "                    viewer.removeLabel(atom.label);\n",
    "                    delete atom.label;\n",
    "                   }\n",
    "                }'''\n",
    "\n",
    "def plot_single_structure(view,pdb,pos):\n",
    "    #color_list = ['#33ff33', '#00ffff', '#ff33cc', '#ffff00', '#ff9999', '#e5e5e5', '#7f7fff', '#ff7f00', '#7fff7f', '#199999', '#ff007f', '#ffdd5e', '#8c3f99', '#b2b2b2', '#007fff', '#c4b200', '#8cb266', '#00bfbf', '#b27f7f', '#fcd1a5', '#ff7f7f', '#ffbfdd', '#7fffff', '#ffff7f', '#00ff7f', '#337fcc', '#d8337f', '#bfff3f', '#ff7fff', '#d8d8ff', '#3fffbf', '#b78c4c', '#339933', '#66b2b2', '#ba8c84', '#84bf00', '#b24c66', '#7f7f7f', '#3f3fa5', '#a5512b']\n",
    "    # Plot native structure\n",
    "    view.addModel(open(pdb, 'r').read(),'pdb',viewer=pos)\n",
    "    chains = get_chains(pdb)\n",
    "    for i,chain in enumerate(chains):\n",
    "       view.setStyle({'chain':chain},{'cartoon': {'color':color_list[i]}},viewer=pos)\n",
    "    return f\"Position {pos}:\\n\\tmodel 0: {get_name(pdb)} ({','.join(repr(item) for item in chains)}) ({','.join(color_list[i] for i,chain in enumerate(chains))})\\n\"\n",
    "\n",
    "def plot_multi_structure(view,pdb_lst,pos):\n",
    "    legend = f\"Position {pos}:\\n\"\n",
    "    for i, pdb in enumerate(pdb_lst):\n",
    "        chains = get_chains(pdb)\n",
    "        view.addModel(open(pdb, 'r').read(),'pdb',viewer=pos)\n",
    "        view.setStyle({'model':i}, {'cartoon': {'color':color_list[i]}},viewer=pos)\n",
    "        legend+= f\"\\tmodel {i}: {get_name(pdb)} ({','.join(repr(item) for item in chains)}) ({color_list[i]})\\n\"\n",
    "    return legend\n"
   ]
  },
  {
   "cell_type": "code",
   "execution_count": 28,
   "metadata": {},
   "outputs": [
    {
     "name": "stderr",
     "output_type": "stream",
     "text": [
      "Warning! Cannot parse file: /home/sfromm/git/abag-benchmark-set/data/models/alphafold3/8hitcomplex/model_seed_0_sample_1_alphafold3.pdb. Chain number 0.\n"
     ]
    },
    {
     "ename": "IndexError",
     "evalue": "list index out of range",
     "output_type": "error",
     "traceback": [
      "\u001b[0;31m---------------------------------------------------------------------------\u001b[0m",
      "\u001b[0;31mIndexError\u001b[0m                                Traceback (most recent call last)",
      "\u001b[1;32m/home/sfromm/git/abag-benchmark-set/analysis/visualize_models.ipynb Cell 8\u001b[0m line \u001b[0;36m1\n\u001b[1;32m     <a href='vscode-notebook-cell://ssh-remote%2Baeserv22a/home/sfromm/git/abag-benchmark-set/analysis/visualize_models.ipynb#X10sdnNjb2RlLXJlbW90ZQ%3D%3D?line=9'>10</a>\u001b[0m MMalign_query_cut_to_reference \u001b[39m=\u001b[39m MMalign_wrapper(MMalign_exe,query_cut,reference,aln_query_cut_to_reference)\n\u001b[1;32m     <a href='vscode-notebook-cell://ssh-remote%2Baeserv22a/home/sfromm/git/abag-benchmark-set/analysis/visualize_models.ipynb#X10sdnNjb2RlLXJlbW90ZQ%3D%3D?line=10'>11</a>\u001b[0m MMalign_reference_cut_to_reference \u001b[39m=\u001b[39m MMalign_wrapper(MMalign_exe,reference_cut,reference,aln_reference_cut_to_reference)\n\u001b[0;32m---> <a href='vscode-notebook-cell://ssh-remote%2Baeserv22a/home/sfromm/git/abag-benchmark-set/analysis/visualize_models.ipynb#X10sdnNjb2RlLXJlbW90ZQ%3D%3D?line=11'>12</a>\u001b[0m MMalign_query_to_reference \u001b[39m=\u001b[39m MMalign_wrapper(MMalign_exe,query,reference,aln_query_to_reference)\n\u001b[1;32m     <a href='vscode-notebook-cell://ssh-remote%2Baeserv22a/home/sfromm/git/abag-benchmark-set/analysis/visualize_models.ipynb#X10sdnNjb2RlLXJlbW90ZQ%3D%3D?line=12'>13</a>\u001b[0m MMalign_query_cut_to_reference_cut \u001b[39m=\u001b[39m MMalign_wrapper(MMalign_exe,query_cut,reference_cut,aln_query_cut_to_reference_cut)\n\u001b[1;32m     <a href='vscode-notebook-cell://ssh-remote%2Baeserv22a/home/sfromm/git/abag-benchmark-set/analysis/visualize_models.ipynb#X10sdnNjb2RlLXJlbW90ZQ%3D%3D?line=13'>14</a>\u001b[0m MMalign_aln_query_to_reference_orig \u001b[39m=\u001b[39m MMalign_wrapper(MMalign_exe,query,reference_orig,aln_query_to_reference_orig)\n",
      "\u001b[1;32m/home/sfromm/git/abag-benchmark-set/analysis/visualize_models.ipynb Cell 8\u001b[0m line \u001b[0;36m2\n\u001b[1;32m     <a href='vscode-notebook-cell://ssh-remote%2Baeserv22a/home/sfromm/git/abag-benchmark-set/analysis/visualize_models.ipynb#X10sdnNjb2RlLXJlbW90ZQ%3D%3D?line=19'>20</a>\u001b[0m result[\u001b[39m\"\u001b[39m\u001b[39mtarget\u001b[39m\u001b[39m\"\u001b[39m] \u001b[39m=\u001b[39m  os\u001b[39m.\u001b[39mpath\u001b[39m.\u001b[39msplit(target_pdb)[\u001b[39m1\u001b[39m]\u001b[39m.\u001b[39msplit(\u001b[39m'\u001b[39m\u001b[39m.\u001b[39m\u001b[39m'\u001b[39m)[\u001b[39m0\u001b[39m]\n\u001b[1;32m     <a href='vscode-notebook-cell://ssh-remote%2Baeserv22a/home/sfromm/git/abag-benchmark-set/analysis/visualize_models.ipynb#X10sdnNjb2RlLXJlbW90ZQ%3D%3D?line=20'>21</a>\u001b[0m result[\u001b[39m\"\u001b[39m\u001b[39mtemplate\u001b[39m\u001b[39m\"\u001b[39m] \u001b[39m=\u001b[39m  os\u001b[39m.\u001b[39mpath\u001b[39m.\u001b[39msplit(template_pdb)[\u001b[39m1\u001b[39m]\u001b[39m.\u001b[39msplit(\u001b[39m'\u001b[39m\u001b[39m.\u001b[39m\u001b[39m'\u001b[39m)[\u001b[39m0\u001b[39m]\n\u001b[0;32m---> <a href='vscode-notebook-cell://ssh-remote%2Baeserv22a/home/sfromm/git/abag-benchmark-set/analysis/visualize_models.ipynb#X10sdnNjb2RlLXJlbW90ZQ%3D%3D?line=21'>22</a>\u001b[0m result\u001b[39m.\u001b[39mupdate({keys[i] : values[i] \u001b[39mfor\u001b[39;00m i \u001b[39min\u001b[39;00m \u001b[39mrange\u001b[39m(\u001b[39mlen\u001b[39m(keys))})\n\u001b[1;32m     <a href='vscode-notebook-cell://ssh-remote%2Baeserv22a/home/sfromm/git/abag-benchmark-set/analysis/visualize_models.ipynb#X10sdnNjb2RlLXJlbW90ZQ%3D%3D?line=22'>23</a>\u001b[0m result[\u001b[39m\"\u001b[39m\u001b[39mPDBchain1\u001b[39m\u001b[39m\"\u001b[39m] \u001b[39m=\u001b[39m result[\u001b[39m\"\u001b[39m\u001b[39mPDBchain1\u001b[39m\u001b[39m\"\u001b[39m]\u001b[39m.\u001b[39msplit(\u001b[39m\"\u001b[39m\u001b[39m:\u001b[39m\u001b[39m\"\u001b[39m,\u001b[39m1\u001b[39m)[\u001b[39m1\u001b[39m]\n\u001b[1;32m     <a href='vscode-notebook-cell://ssh-remote%2Baeserv22a/home/sfromm/git/abag-benchmark-set/analysis/visualize_models.ipynb#X10sdnNjb2RlLXJlbW90ZQ%3D%3D?line=23'>24</a>\u001b[0m result[\u001b[39m\"\u001b[39m\u001b[39mPDBchain2\u001b[39m\u001b[39m\"\u001b[39m] \u001b[39m=\u001b[39m result[\u001b[39m\"\u001b[39m\u001b[39mPDBchain2\u001b[39m\u001b[39m\"\u001b[39m]\u001b[39m.\u001b[39msplit(\u001b[39m\"\u001b[39m\u001b[39m:\u001b[39m\u001b[39m\"\u001b[39m,\u001b[39m1\u001b[39m)[\u001b[39m1\u001b[39m]\n",
      "\u001b[0;31mIndexError\u001b[0m: list index out of range"
     ]
    }
   ],
   "source": [
    "\n",
    "aln_reference_to_reference_orig = os.path.join(tmp,\"aln_reference_to_reference_orig.pdb\")\n",
    "aln_query_cut_to_reference = os.path.join(tmp,\"aln_query_cut_to_reference.pdb\")\n",
    "aln_reference_cut_to_reference = os.path.join(tmp,\"aln_reference_cut_to_reference.pdb\")\n",
    "aln_query_to_reference = os.path.join(tmp,\"aln_query_to_reference.pdb\")\n",
    "aln_query_cut_to_reference_cut = os.path.join(tmp,\"aln_query_cut_to_reference_cut.pdb\")\n",
    "aln_query_to_reference_orig = os.path.join(tmp,\"aln_query_to_reference_orig.pdb\")\n",
    "\n",
    "\n",
    "MMalign_reference_to_reference_orig = MMalign_wrapper(MMalign_exe,reference,reference_orig,aln_reference_to_reference_orig)\n",
    "MMalign_query_cut_to_reference = MMalign_wrapper(MMalign_exe,query_cut,reference,aln_query_cut_to_reference)\n",
    "MMalign_reference_cut_to_reference = MMalign_wrapper(MMalign_exe,reference_cut,reference,aln_reference_cut_to_reference)\n",
    "MMalign_query_to_reference = MMalign_wrapper(MMalign_exe,query,reference,aln_query_to_reference)\n",
    "MMalign_query_cut_to_reference_cut = MMalign_wrapper(MMalign_exe,query_cut,reference_cut,aln_query_cut_to_reference_cut)\n",
    "MMalign_aln_query_to_reference_orig = MMalign_wrapper(MMalign_exe,query,reference_orig,aln_query_to_reference_orig)\n",
    "\n",
    "\n",
    "# Plot aligned structures\n",
    "view = py3Dmol.view(width=3*400,height=600,viewergrid=(5,2),linked=False)\n",
    "view.removeAllModels()\n",
    "view.setBackgroundColor('0x17202a')\n",
    "legend = plot_single_structure(view,reference_orig,(0,0))\n",
    "legend = plot_single_structure(view,reference,(0,1))\n",
    "legend = plot_single_structure(view,query,(1,1))\n",
    "legend +=plot_multi_structure(view,[aln_reference_to_reference_orig,reference_orig],(2,0))\n",
    "legend +=plot_multi_structure(view,[aln_query_to_reference,reference],(2,1))\n",
    "legend +=plot_multi_structure(view,[aln_query_cut_to_reference,reference],(3,0))\n",
    "legend +=plot_multi_structure(view,[aln_reference_cut_to_reference,reference],(3,1))\n",
    "legend +=plot_multi_structure(view,[aln_query_cut_to_reference_cut,reference_cut],(4,0))\n",
    "legend +=plot_multi_structure(view,[aln_query_to_reference_orig,reference_orig],(4,1))\n",
    "view.setHoverable({},True,hover_func,unhover_func)\n",
    "view.zoomTo()\n",
    "print(legend)\n",
    "view.render()"
   ]
  }
 ],
 "metadata": {
  "kernelspec": {
   "display_name": "analysis_env",
   "language": "python",
   "name": "python3"
  },
  "language_info": {
   "codemirror_mode": {
    "name": "ipython",
    "version": 3
   },
   "file_extension": ".py",
   "mimetype": "text/x-python",
   "name": "python",
   "nbconvert_exporter": "python",
   "pygments_lexer": "ipython3",
   "version": "3.12.3"
  }
 },
 "nbformat": 4,
 "nbformat_minor": 2
}
